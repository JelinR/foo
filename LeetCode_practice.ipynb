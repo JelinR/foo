{
 "cells": [
  {
   "cell_type": "code",
   "execution_count": 1,
   "metadata": {},
   "outputs": [],
   "source": [
    "from math import sqrt\n",
    "import numpy as np\n",
    "import time\n",
    "import matplotlib.pyplot as plt\n",
    "import graphviz"
   ]
  },
  {
   "cell_type": "markdown",
   "metadata": {},
   "source": [
    "### Binary Tree"
   ]
  },
  {
   "cell_type": "code",
   "execution_count": 1,
   "metadata": {},
   "outputs": [],
   "source": [
    "class TreeNode:\n",
    "    def __init__(self, val = 0, left = None, right = None, depth = None):\n",
    "        self.val = val\n",
    "        self.left = left\n",
    "        self.right = right\n",
    "        self.depth = depth"
   ]
  },
  {
   "cell_type": "code",
   "execution_count": 2,
   "metadata": {},
   "outputs": [],
   "source": [
    "def insert_node(root, val):\n",
    "    if root is None: return(TreeNode(val))\n",
    "    else:\n",
    "        if val > root.val: root.right = insert_node(root.right, val) \n",
    "        else: root.left = insert_node(root.left, val)\n",
    "\n",
    "    return(root)"
   ]
  },
  {
   "cell_type": "code",
   "execution_count": 3,
   "metadata": {},
   "outputs": [],
   "source": [
    "def traverse_inorder(root, l):\n",
    "\n",
    "    if root:\n",
    "\n",
    "        traverse_inorder(root.left, l)\n",
    "\n",
    "        print(root.val, end = '-')\n",
    "        l.append(root.val)\n",
    "        #print(l)\n",
    "\n",
    "        traverse_inorder(root.right, l)\n",
    "    \n",
    "    else:\n",
    "        l.append(None)\n",
    "    \n",
    "    return(l)"
   ]
  },
  {
   "cell_type": "code",
   "execution_count": 4,
   "metadata": {},
   "outputs": [],
   "source": [
    "def traverse_direction(root, l, direction = 'z'):\n",
    "\n",
    "    if root:\n",
    "        l.append(root.val)\n",
    "        traverse_inorder(root.left, l, direction = 'l')\n",
    "        traverse_inorder(root.right, l, direction = 'r')\n",
    "    \n",
    "    else:\n",
    "        l.append(direction)\n",
    "    \n",
    "    return(l)"
   ]
  },
  {
   "cell_type": "code",
   "execution_count": 5,
   "metadata": {},
   "outputs": [],
   "source": [
    "def visualize_tree(root):\n",
    "    dot = graphviz.Digraph()\n",
    "    dot.node(str(root.val))\n",
    "\n",
    "    def add_nodes_edges(node):\n",
    "        if node.left:\n",
    "            dot.node(str(node.left.val))\n",
    "            dot.edge(str(node.val), str(node.left.val))\n",
    "            add_nodes_edges(node.left)\n",
    "        \n",
    "        if node.right:\n",
    "            dot.node(str(node.right.val))\n",
    "            dot.edge(str(node.val), str(node.right.val))\n",
    "            add_nodes_edges(node.right)\n",
    "\n",
    "    add_nodes_edges(root)\n",
    "    dot.render('binary_tree', view = True, format = 'png')"
   ]
  },
  {
   "cell_type": "code",
   "execution_count": 6,
   "metadata": {},
   "outputs": [],
   "source": [
    "def isSymmetric(root1, root2):\n",
    "    \n",
    "    print('\\n')\n",
    "    \n",
    "    if root1 is None and root2 is None: \n",
    "        print('Entered Both None')\n",
    "        return(True)\n",
    "\n",
    "    if root1 and root2:\n",
    "        print(f'Root 1: {root1.val}, Root 2: {root2.val}')\n",
    "        if root1.val == root2.val: \n",
    "            return(isSymmetric(root1.left, root2.right) and isSymmetric(root1.right, root2.left))\n",
    "\n",
    "    print('Entered One None')\n",
    "    return(False)\n"
   ]
  },
  {
   "cell_type": "code",
   "execution_count": 16,
   "metadata": {},
   "outputs": [],
   "source": [
    "nodes = [5, 3, 7, 1, 2, 0]\n",
    "\n",
    "root = None\n",
    "for node in nodes:\n",
    "    root = insert_node(root, node)"
   ]
  },
  {
   "cell_type": "code",
   "execution_count": 42,
   "metadata": {},
   "outputs": [],
   "source": [
    "root1 = TreeNode(5)\n",
    "root1.left = TreeNode(4)\n",
    "root1.right = TreeNode(1)\n",
    "root1.right.left = TreeNode(2)\n",
    "root1.right.right = TreeNode(3)\n",
    "root1.right.left.left = TreeNode(6)"
   ]
  },
  {
   "cell_type": "code",
   "execution_count": 42,
   "metadata": {},
   "outputs": [],
   "source": [
    "root2 = TreeNode(5)\n",
    "root2.right = TreeNode(4)\n",
    "root2.left = TreeNode(1)\n",
    "root2.left.right = TreeNode(2)\n",
    "#root2.left.left = TreeNode(3)"
   ]
  },
  {
   "cell_type": "code",
   "execution_count": 50,
   "metadata": {},
   "outputs": [],
   "source": [
    "visualize_tree(root)"
   ]
  },
  {
   "cell_type": "code",
   "execution_count": 36,
   "metadata": {},
   "outputs": [],
   "source": [
    "def traverse_depth(root, depth_val = 0, max_count = 0): #Requires TreeNode to have depth as attribute\n",
    "    \n",
    "    if root is None: \n",
    "        if max_count < depth_val:\n",
    "            max_count = depth_val\n",
    "    \n",
    "    if root:\n",
    "        if root.depth: depth_val = root.depth\n",
    "        else: \n",
    "            depth_val += 1\n",
    "            root.depth = depth_val\n",
    "            \n",
    "        print(root.val, root.depth, max_count)\n",
    "        max_count = traverse_depth(root.left, depth_val, max_count)\n",
    "        max_count = traverse_depth(root.right, depth_val, max_count)\n",
    "\n",
    "    return(max_count)    "
   ]
  },
  {
   "cell_type": "code",
   "execution_count": 46,
   "metadata": {},
   "outputs": [],
   "source": [
    "def traverse_depth_sans(root, depth_val = 0, max_count = 0): #Requires TreeNode to have depth as attribute\n",
    "    \n",
    "    if root:\n",
    "        depth_val += 1\n",
    "        \n",
    "        print(root.val, depth_val)\n",
    "        max_count = traverse_depth_sans(root.left, depth_val, max_count)\n",
    "        max_count = traverse_depth_sans(root.right, depth_val, max_count)\n",
    "    \n",
    "    else: \n",
    "        if max_count < depth_val:\n",
    "            max_count = depth_val\n",
    "        depth_val -= 1\n",
    "\n",
    "    return(max_count)    "
   ]
  },
  {
   "cell_type": "code",
   "execution_count": 51,
   "metadata": {},
   "outputs": [
    {
     "name": "stdout",
     "output_type": "stream",
     "text": [
      "5 1\n",
      "3 2\n",
      "1 3\n",
      "0 4\n",
      "2 4\n",
      "7 2\n"
     ]
    }
   ],
   "source": [
    "max_val = traverse_depth_sans(root)"
   ]
  },
  {
   "cell_type": "code",
   "execution_count": 52,
   "metadata": {},
   "outputs": [
    {
     "data": {
      "text/plain": [
       "4"
      ]
     },
     "execution_count": 52,
     "metadata": {},
     "output_type": "execute_result"
    }
   ],
   "source": [
    "max_val"
   ]
  },
  {
   "cell_type": "markdown",
   "metadata": {},
   "source": [
    "### Others"
   ]
  },
  {
   "cell_type": "code",
   "execution_count": 30,
   "metadata": {},
   "outputs": [],
   "source": [
    "s = 'babad'"
   ]
  },
  {
   "cell_type": "code",
   "execution_count": 23,
   "metadata": {},
   "outputs": [],
   "source": [
    "def check_palind(s):\n",
    "    return s == s[::-1]"
   ]
  },
  {
   "cell_type": "code",
   "execution_count": 53,
   "metadata": {},
   "outputs": [],
   "source": [
    "s = \"slvafhpfjpbqbpcuwxuexavyrtymfydcnvvbvdoitsvumbsvoayefsnusoqmlvatmfzgwlhxtkhdnlmqmyjztlytoxontggyytcezredlrrimcbkyzkrdeshpyyuolsasyyvxfjyjzqksyxtlenaujqcogpqmrbwqbiaweacvkcdxyecairvvhngzdaujypapbhctaoxnjmwhqdzsvpyixyrozyaldmcyizilrmmmvnjbyhlwvpqhnnbausoyoglvogmkrkzppvexiovlxtmustooahwviluumftwnzfbxxrvijjyfybvfnwpjjgdudnyjwoxavlyiarjydlkywmgjqeelrohrqjeflmdyzkqnbqnpaewjdfmdyoazlznzthiuorocncwjrocfpzvkcmxdopisxtatzcpquxyxrdptgxlhlrnwgvee\""
   ]
  },
  {
   "cell_type": "code",
   "execution_count": 54,
   "metadata": {},
   "outputs": [
    {
     "data": {
      "text/plain": [
       "'pbqbp'"
      ]
     },
     "execution_count": 54,
     "metadata": {},
     "output_type": "execute_result"
    }
   ],
   "source": [
    "def get_palin_sub(s):\n",
    "\n",
    "    n = len(s)\n",
    "    #print(s, n)\n",
    "\n",
    "    if check_palind(s): return(s)\n",
    "\n",
    "    for wind in range(n-1, 0, -1):\n",
    "        #print(wind)\n",
    "        subs = [s[i:i+wind] for i in range(n - wind + 1)]\n",
    "        #print('\\n', subs)\n",
    "\n",
    "        check_subs = [check_palind(sub) for sub in subs]\n",
    "        #print(check_subs)\n",
    "\n",
    "        if True in check_subs: return(subs[check_subs.index(True)])\n",
    "\n",
    "    return('')\n",
    "\n",
    "#s = 'cabab'\n",
    "get_palin_sub(s)"
   ]
  },
  {
   "cell_type": "code",
   "execution_count": 58,
   "metadata": {},
   "outputs": [
    {
     "data": {
      "text/plain": [
       "'bab'"
      ]
     },
     "execution_count": 58,
     "metadata": {},
     "output_type": "execute_result"
    }
   ],
   "source": [
    "s = 'bab'\n",
    "s"
   ]
  },
  {
   "cell_type": "code",
   "execution_count": 59,
   "metadata": {},
   "outputs": [
    {
     "data": {
      "text/plain": [
       "'bab'"
      ]
     },
     "execution_count": 59,
     "metadata": {},
     "output_type": "execute_result"
    }
   ],
   "source": [
    "s[::-1]"
   ]
  },
  {
   "cell_type": "code",
   "execution_count": 60,
   "metadata": {},
   "outputs": [
    {
     "data": {
      "text/plain": [
       "True"
      ]
     },
     "execution_count": 60,
     "metadata": {},
     "output_type": "execute_result"
    }
   ],
   "source": [
    "s == s[::-1]"
   ]
  },
  {
   "cell_type": "markdown",
   "metadata": {},
   "source": [
    "### Neural Networks"
   ]
  },
  {
   "cell_type": "code",
   "execution_count": 16,
   "metadata": {},
   "outputs": [],
   "source": [
    "import numpy as np\n",
    "import matplotlib.pyplot as plt"
   ]
  },
  {
   "cell_type": "code",
   "execution_count": 147,
   "metadata": {},
   "outputs": [],
   "source": [
    "sigmoid = lambda x: 1 / (1 + np.exp(-x))\n",
    "sigmoid_prime = lambda x: sigmoid(x) * (1 - sigmoid(x))"
   ]
  },
  {
   "cell_type": "code",
   "execution_count": 236,
   "metadata": {},
   "outputs": [],
   "source": [
    "class Network:\n",
    "\n",
    "    def __init__(self, sizes):\n",
    "        self.num_layers = len(sizes)\n",
    "        self.sizes = sizes\n",
    "        self.biases = [np.random.randn(y, 1) for y in sizes[1:]]\n",
    "        self.weights = [np.random.randn(y, x) for x, y in zip(sizes[:-1], sizes[1:])]\n",
    "\n",
    "        self.activs = [np.zeros(arr.shape) for arr in self.biases]\n",
    "        self.z_vals = [np.zeros(arr.shape) for arr in self.biases]\n",
    "\n",
    "    \n",
    "    def feed_forward(self, a):\n",
    "\n",
    "        for count, wb in enumerate(zip(self.weights, self.biases)):\n",
    "\n",
    "            z = np.dot(wb[0], a) + wb[1]\n",
    "            a = sigmoid(z)\n",
    "\n",
    "            self.z_vals[count] = z\n",
    "            self.activs[count] = a\n",
    "        return(a)\n",
    "    \n",
    "    def backprop(self, a, y):\n",
    "\n",
    "        cost_der = a - y\n",
    "        print('Cost: ', cost_der)\n",
    "        \n",
    "        error_w, error_b = [np.zeros(arr.shape) for arr in self.weights], [np.zeros(arr.shape) for arr in self.biases]\n",
    "        error = cost_der * sigmoid_prime(self.z_vals[-1])\n",
    "        \n",
    "        error_b[-1] = error\n",
    "        error_w[-1] = self.activs[-2] * error\n",
    "\n",
    "        print(error)\n",
    "        print(error_w)\n",
    "        print(error_b)\n",
    "\n",
    "        for i in range(2, self.num_layers):\n",
    "\n",
    "            # print('\\nyes')\n",
    "            # print(i)\n",
    "            # print(self.weights[-i])\n",
    "            # print(error)\n",
    "            # print(sigmoid_prime(self.z_vals[-i]))\n",
    "\n",
    "            error = self.weights[-i] * error * sigmoid_prime(self.z_vals[-i])\n",
    "\n",
    "            error_b[-i] = error\n",
    "            error_w[-i] = self.activs[-i] * error\n",
    "\n",
    "        return(error_w, error_b)\n",
    "    "
   ]
  },
  {
   "cell_type": "code",
   "execution_count": 252,
   "metadata": {},
   "outputs": [],
   "source": [
    "nn = Network([2, 3, 1])"
   ]
  },
  {
   "cell_type": "code",
   "execution_count": 253,
   "metadata": {},
   "outputs": [],
   "source": [
    "a = np.array([1, 2]).reshape((2, 1))\n",
    "y = np.array([[1]])"
   ]
  },
  {
   "cell_type": "code",
   "execution_count": 254,
   "metadata": {},
   "outputs": [
    {
     "data": {
      "text/plain": [
       "array([[0.4032512]])"
      ]
     },
     "execution_count": 254,
     "metadata": {},
     "output_type": "execute_result"
    }
   ],
   "source": [
    "nn_forward = nn.feed_forward(a)\n",
    "nn_forward"
   ]
  },
  {
   "cell_type": "code",
   "execution_count": 280,
   "metadata": {},
   "outputs": [
    {
     "name": "stdout",
     "output_type": "stream",
     "text": [
      "Cost:  [[-0.5967488]]\n",
      "[[-0.14873581 -0.14880224]]\n",
      "[array([[0., 0.],\n",
      "       [0., 0.],\n",
      "       [0., 0.]]), array([[-0.00511357, -0.00509809],\n",
      "       [-0.14568819, -0.14576786],\n",
      "       [-0.02846272, -0.0276459 ]])]\n",
      "[array([[0., 0.],\n",
      "       [0., 0.],\n",
      "       [0., 0.]]), array([[-0.14873581, -0.14880224]])]\n"
     ]
    }
   ],
   "source": [
    "del_w, del_b = nn.backprop(nn_forward, y)\n"
   ]
  },
  {
   "cell_type": "code",
   "execution_count": null,
   "metadata": {},
   "outputs": [],
   "source": []
  },
  {
   "cell_type": "code",
   "execution_count": null,
   "metadata": {},
   "outputs": [],
   "source": []
  }
 ],
 "metadata": {
  "kernelspec": {
   "display_name": "py_env",
   "language": "python",
   "name": "python3"
  },
  "language_info": {
   "codemirror_mode": {
    "name": "ipython",
    "version": 3
   },
   "file_extension": ".py",
   "mimetype": "text/x-python",
   "name": "python",
   "nbconvert_exporter": "python",
   "pygments_lexer": "ipython3",
   "version": "3.9.18"
  }
 },
 "nbformat": 4,
 "nbformat_minor": 2
}
